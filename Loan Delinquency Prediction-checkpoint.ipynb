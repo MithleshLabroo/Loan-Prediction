{
 "cells": [
  {
   "cell_type": "code",
   "execution_count": 1,
   "metadata": {},
   "outputs": [],
   "source": [
    "import pandas as pd\n",
    "import numpy as np\n",
    "from pandas import DataFrame\n",
    "import matplotlib.pyplot as plt\n",
    "import seaborn as sns"
   ]
  },
  {
   "cell_type": "code",
   "execution_count": 3,
   "metadata": {},
   "outputs": [
    {
     "data": {
      "text/plain": [
       "(116058, 29)"
      ]
     },
     "execution_count": 3,
     "metadata": {},
     "output_type": "execute_result"
    }
   ],
   "source": [
    "train = pd.read_csv(\"train.csv\")\n",
    "test = pd.read_csv(\"test.csv\")\n",
    "train.shape"
   ]
  },
  {
   "cell_type": "code",
   "execution_count": 4,
   "metadata": {},
   "outputs": [
    {
     "data": {
      "text/plain": [
       "(35866, 28)"
      ]
     },
     "execution_count": 4,
     "metadata": {},
     "output_type": "execute_result"
    }
   ],
   "source": [
    "test.shape"
   ]
  },
  {
   "cell_type": "code",
   "execution_count": 5,
   "metadata": {},
   "outputs": [
    {
     "data": {
      "text/plain": [
       "(35866, 29)"
      ]
     },
     "execution_count": 5,
     "metadata": {},
     "output_type": "execute_result"
    }
   ],
   "source": [
    "test = pd.DataFrame(test)\n",
    "test[\"m13\"] = 0\n",
    "test.shape"
   ]
  },
  {
   "cell_type": "code",
   "execution_count": 6,
   "metadata": {},
   "outputs": [
    {
     "data": {
      "text/html": [
       "<div>\n",
       "<style scoped>\n",
       "    .dataframe tbody tr th:only-of-type {\n",
       "        vertical-align: middle;\n",
       "    }\n",
       "\n",
       "    .dataframe tbody tr th {\n",
       "        vertical-align: top;\n",
       "    }\n",
       "\n",
       "    .dataframe thead th {\n",
       "        text-align: right;\n",
       "    }\n",
       "</style>\n",
       "<table border=\"1\" class=\"dataframe\">\n",
       "  <thead>\n",
       "    <tr style=\"text-align: right;\">\n",
       "      <th></th>\n",
       "      <th>loan_id</th>\n",
       "      <th>source</th>\n",
       "      <th>financial_institution</th>\n",
       "      <th>interest_rate</th>\n",
       "      <th>unpaid_principal_bal</th>\n",
       "      <th>loan_term</th>\n",
       "      <th>origination_date</th>\n",
       "      <th>first_payment_date</th>\n",
       "      <th>loan_to_value</th>\n",
       "      <th>number_of_borrowers</th>\n",
       "      <th>...</th>\n",
       "      <th>m4</th>\n",
       "      <th>m5</th>\n",
       "      <th>m6</th>\n",
       "      <th>m7</th>\n",
       "      <th>m8</th>\n",
       "      <th>m9</th>\n",
       "      <th>m10</th>\n",
       "      <th>m11</th>\n",
       "      <th>m12</th>\n",
       "      <th>m13</th>\n",
       "    </tr>\n",
       "  </thead>\n",
       "  <tbody>\n",
       "    <tr>\n",
       "      <th>0</th>\n",
       "      <td>1</td>\n",
       "      <td>Y</td>\n",
       "      <td>Browning-Hart</td>\n",
       "      <td>3.875</td>\n",
       "      <td>417000</td>\n",
       "      <td>360</td>\n",
       "      <td>01/02/12</td>\n",
       "      <td>Apr-12</td>\n",
       "      <td>75</td>\n",
       "      <td>1</td>\n",
       "      <td>...</td>\n",
       "      <td>0</td>\n",
       "      <td>0</td>\n",
       "      <td>0</td>\n",
       "      <td>0</td>\n",
       "      <td>0</td>\n",
       "      <td>0</td>\n",
       "      <td>0</td>\n",
       "      <td>0</td>\n",
       "      <td>0</td>\n",
       "      <td>0</td>\n",
       "    </tr>\n",
       "    <tr>\n",
       "      <th>1</th>\n",
       "      <td>2</td>\n",
       "      <td>X</td>\n",
       "      <td>OTHER</td>\n",
       "      <td>4.500</td>\n",
       "      <td>113000</td>\n",
       "      <td>360</td>\n",
       "      <td>01/02/12</td>\n",
       "      <td>Apr-12</td>\n",
       "      <td>80</td>\n",
       "      <td>2</td>\n",
       "      <td>...</td>\n",
       "      <td>0</td>\n",
       "      <td>0</td>\n",
       "      <td>0</td>\n",
       "      <td>0</td>\n",
       "      <td>0</td>\n",
       "      <td>0</td>\n",
       "      <td>0</td>\n",
       "      <td>0</td>\n",
       "      <td>0</td>\n",
       "      <td>0</td>\n",
       "    </tr>\n",
       "    <tr>\n",
       "      <th>2</th>\n",
       "      <td>3</td>\n",
       "      <td>Y</td>\n",
       "      <td>OTHER</td>\n",
       "      <td>4.500</td>\n",
       "      <td>72000</td>\n",
       "      <td>360</td>\n",
       "      <td>01/01/12</td>\n",
       "      <td>Mar-12</td>\n",
       "      <td>75</td>\n",
       "      <td>1</td>\n",
       "      <td>...</td>\n",
       "      <td>0</td>\n",
       "      <td>0</td>\n",
       "      <td>0</td>\n",
       "      <td>0</td>\n",
       "      <td>0</td>\n",
       "      <td>0</td>\n",
       "      <td>0</td>\n",
       "      <td>0</td>\n",
       "      <td>0</td>\n",
       "      <td>0</td>\n",
       "    </tr>\n",
       "    <tr>\n",
       "      <th>3</th>\n",
       "      <td>4</td>\n",
       "      <td>X</td>\n",
       "      <td>Miller, Mcclure and Allen</td>\n",
       "      <td>4.125</td>\n",
       "      <td>123000</td>\n",
       "      <td>180</td>\n",
       "      <td>01/02/12</td>\n",
       "      <td>Apr-12</td>\n",
       "      <td>41</td>\n",
       "      <td>2</td>\n",
       "      <td>...</td>\n",
       "      <td>0</td>\n",
       "      <td>0</td>\n",
       "      <td>0</td>\n",
       "      <td>0</td>\n",
       "      <td>0</td>\n",
       "      <td>0</td>\n",
       "      <td>0</td>\n",
       "      <td>0</td>\n",
       "      <td>0</td>\n",
       "      <td>0</td>\n",
       "    </tr>\n",
       "    <tr>\n",
       "      <th>4</th>\n",
       "      <td>5</td>\n",
       "      <td>X</td>\n",
       "      <td>Browning-Hart</td>\n",
       "      <td>3.250</td>\n",
       "      <td>166000</td>\n",
       "      <td>180</td>\n",
       "      <td>01/02/12</td>\n",
       "      <td>Apr-12</td>\n",
       "      <td>53</td>\n",
       "      <td>2</td>\n",
       "      <td>...</td>\n",
       "      <td>0</td>\n",
       "      <td>0</td>\n",
       "      <td>0</td>\n",
       "      <td>0</td>\n",
       "      <td>0</td>\n",
       "      <td>0</td>\n",
       "      <td>0</td>\n",
       "      <td>0</td>\n",
       "      <td>0</td>\n",
       "      <td>0</td>\n",
       "    </tr>\n",
       "  </tbody>\n",
       "</table>\n",
       "<p>5 rows × 29 columns</p>\n",
       "</div>"
      ],
      "text/plain": [
       "   loan_id source      financial_institution  interest_rate  \\\n",
       "0        1      Y              Browning-Hart          3.875   \n",
       "1        2      X                      OTHER          4.500   \n",
       "2        3      Y                      OTHER          4.500   \n",
       "3        4      X  Miller, Mcclure and Allen          4.125   \n",
       "4        5      X              Browning-Hart          3.250   \n",
       "\n",
       "   unpaid_principal_bal  loan_term origination_date first_payment_date  \\\n",
       "0                417000        360         01/02/12             Apr-12   \n",
       "1                113000        360         01/02/12             Apr-12   \n",
       "2                 72000        360         01/01/12             Mar-12   \n",
       "3                123000        180         01/02/12             Apr-12   \n",
       "4                166000        180         01/02/12             Apr-12   \n",
       "\n",
       "   loan_to_value  number_of_borrowers  ...  m4  m5 m6  m7  m8  m9  m10  m11  \\\n",
       "0             75                    1  ...   0   0  0   0   0   0    0    0   \n",
       "1             80                    2  ...   0   0  0   0   0   0    0    0   \n",
       "2             75                    1  ...   0   0  0   0   0   0    0    0   \n",
       "3             41                    2  ...   0   0  0   0   0   0    0    0   \n",
       "4             53                    2  ...   0   0  0   0   0   0    0    0   \n",
       "\n",
       "   m12  m13  \n",
       "0    0    0  \n",
       "1    0    0  \n",
       "2    0    0  \n",
       "3    0    0  \n",
       "4    0    0  \n",
       "\n",
       "[5 rows x 29 columns]"
      ]
     },
     "execution_count": 6,
     "metadata": {},
     "output_type": "execute_result"
    }
   ],
   "source": [
    "test.head()"
   ]
  },
  {
   "cell_type": "code",
   "execution_count": 7,
   "metadata": {},
   "outputs": [],
   "source": [
    "Data = pd.concat([train,test],axis=0)"
   ]
  },
  {
   "cell_type": "code",
   "execution_count": 8,
   "metadata": {},
   "outputs": [
    {
     "data": {
      "text/plain": [
       "(151924, 29)"
      ]
     },
     "execution_count": 8,
     "metadata": {},
     "output_type": "execute_result"
    }
   ],
   "source": [
    "Data.shape"
   ]
  },
  {
   "cell_type": "code",
   "execution_count": 9,
   "metadata": {},
   "outputs": [
    {
     "data": {
      "text/html": [
       "<div>\n",
       "<style scoped>\n",
       "    .dataframe tbody tr th:only-of-type {\n",
       "        vertical-align: middle;\n",
       "    }\n",
       "\n",
       "    .dataframe tbody tr th {\n",
       "        vertical-align: top;\n",
       "    }\n",
       "\n",
       "    .dataframe thead th {\n",
       "        text-align: right;\n",
       "    }\n",
       "</style>\n",
       "<table border=\"1\" class=\"dataframe\">\n",
       "  <thead>\n",
       "    <tr style=\"text-align: right;\">\n",
       "      <th></th>\n",
       "      <th>loan_id</th>\n",
       "      <th>source</th>\n",
       "      <th>financial_institution</th>\n",
       "      <th>interest_rate</th>\n",
       "      <th>unpaid_principal_bal</th>\n",
       "      <th>loan_term</th>\n",
       "      <th>origination_date</th>\n",
       "      <th>first_payment_date</th>\n",
       "      <th>loan_to_value</th>\n",
       "      <th>number_of_borrowers</th>\n",
       "      <th>...</th>\n",
       "      <th>m4</th>\n",
       "      <th>m5</th>\n",
       "      <th>m6</th>\n",
       "      <th>m7</th>\n",
       "      <th>m8</th>\n",
       "      <th>m9</th>\n",
       "      <th>m10</th>\n",
       "      <th>m11</th>\n",
       "      <th>m12</th>\n",
       "      <th>m13</th>\n",
       "    </tr>\n",
       "  </thead>\n",
       "  <tbody>\n",
       "    <tr>\n",
       "      <th>0</th>\n",
       "      <td>268055008619</td>\n",
       "      <td>Z</td>\n",
       "      <td>Turner, Baldwin and Rhodes</td>\n",
       "      <td>4.250</td>\n",
       "      <td>214000</td>\n",
       "      <td>360</td>\n",
       "      <td>2012-03-01</td>\n",
       "      <td>05/2012</td>\n",
       "      <td>95</td>\n",
       "      <td>1.0</td>\n",
       "      <td>...</td>\n",
       "      <td>0</td>\n",
       "      <td>0</td>\n",
       "      <td>0</td>\n",
       "      <td>1</td>\n",
       "      <td>0</td>\n",
       "      <td>0</td>\n",
       "      <td>0</td>\n",
       "      <td>0</td>\n",
       "      <td>0</td>\n",
       "      <td>1</td>\n",
       "    </tr>\n",
       "    <tr>\n",
       "      <th>1</th>\n",
       "      <td>672831657627</td>\n",
       "      <td>Y</td>\n",
       "      <td>Swanson, Newton and Miller</td>\n",
       "      <td>4.875</td>\n",
       "      <td>144000</td>\n",
       "      <td>360</td>\n",
       "      <td>2012-01-01</td>\n",
       "      <td>03/2012</td>\n",
       "      <td>72</td>\n",
       "      <td>1.0</td>\n",
       "      <td>...</td>\n",
       "      <td>0</td>\n",
       "      <td>0</td>\n",
       "      <td>0</td>\n",
       "      <td>0</td>\n",
       "      <td>0</td>\n",
       "      <td>0</td>\n",
       "      <td>0</td>\n",
       "      <td>1</td>\n",
       "      <td>0</td>\n",
       "      <td>1</td>\n",
       "    </tr>\n",
       "    <tr>\n",
       "      <th>2</th>\n",
       "      <td>742515242108</td>\n",
       "      <td>Z</td>\n",
       "      <td>Thornton-Davis</td>\n",
       "      <td>3.250</td>\n",
       "      <td>366000</td>\n",
       "      <td>180</td>\n",
       "      <td>2012-01-01</td>\n",
       "      <td>03/2012</td>\n",
       "      <td>49</td>\n",
       "      <td>1.0</td>\n",
       "      <td>...</td>\n",
       "      <td>0</td>\n",
       "      <td>0</td>\n",
       "      <td>0</td>\n",
       "      <td>0</td>\n",
       "      <td>0</td>\n",
       "      <td>0</td>\n",
       "      <td>0</td>\n",
       "      <td>0</td>\n",
       "      <td>0</td>\n",
       "      <td>1</td>\n",
       "    </tr>\n",
       "    <tr>\n",
       "      <th>3</th>\n",
       "      <td>601385667462</td>\n",
       "      <td>X</td>\n",
       "      <td>OTHER</td>\n",
       "      <td>4.750</td>\n",
       "      <td>135000</td>\n",
       "      <td>360</td>\n",
       "      <td>2012-02-01</td>\n",
       "      <td>04/2012</td>\n",
       "      <td>46</td>\n",
       "      <td>2.0</td>\n",
       "      <td>...</td>\n",
       "      <td>0</td>\n",
       "      <td>0</td>\n",
       "      <td>0</td>\n",
       "      <td>0</td>\n",
       "      <td>0</td>\n",
       "      <td>1</td>\n",
       "      <td>1</td>\n",
       "      <td>1</td>\n",
       "      <td>1</td>\n",
       "      <td>1</td>\n",
       "    </tr>\n",
       "    <tr>\n",
       "      <th>4</th>\n",
       "      <td>273870029961</td>\n",
       "      <td>X</td>\n",
       "      <td>OTHER</td>\n",
       "      <td>4.750</td>\n",
       "      <td>124000</td>\n",
       "      <td>360</td>\n",
       "      <td>2012-02-01</td>\n",
       "      <td>04/2012</td>\n",
       "      <td>80</td>\n",
       "      <td>1.0</td>\n",
       "      <td>...</td>\n",
       "      <td>3</td>\n",
       "      <td>4</td>\n",
       "      <td>5</td>\n",
       "      <td>6</td>\n",
       "      <td>7</td>\n",
       "      <td>8</td>\n",
       "      <td>9</td>\n",
       "      <td>10</td>\n",
       "      <td>11</td>\n",
       "      <td>1</td>\n",
       "    </tr>\n",
       "  </tbody>\n",
       "</table>\n",
       "<p>5 rows × 29 columns</p>\n",
       "</div>"
      ],
      "text/plain": [
       "        loan_id source       financial_institution  interest_rate  \\\n",
       "0  268055008619      Z  Turner, Baldwin and Rhodes          4.250   \n",
       "1  672831657627      Y  Swanson, Newton and Miller          4.875   \n",
       "2  742515242108      Z              Thornton-Davis          3.250   \n",
       "3  601385667462      X                       OTHER          4.750   \n",
       "4  273870029961      X                       OTHER          4.750   \n",
       "\n",
       "   unpaid_principal_bal  loan_term origination_date first_payment_date  \\\n",
       "0                214000        360       2012-03-01            05/2012   \n",
       "1                144000        360       2012-01-01            03/2012   \n",
       "2                366000        180       2012-01-01            03/2012   \n",
       "3                135000        360       2012-02-01            04/2012   \n",
       "4                124000        360       2012-02-01            04/2012   \n",
       "\n",
       "   loan_to_value  number_of_borrowers  ...  m4  m5 m6  m7  m8  m9  m10  m11  \\\n",
       "0             95                  1.0  ...   0   0  0   1   0   0    0    0   \n",
       "1             72                  1.0  ...   0   0  0   0   0   0    0    1   \n",
       "2             49                  1.0  ...   0   0  0   0   0   0    0    0   \n",
       "3             46                  2.0  ...   0   0  0   0   0   1    1    1   \n",
       "4             80                  1.0  ...   3   4  5   6   7   8    9   10   \n",
       "\n",
       "   m12  m13  \n",
       "0    0    1  \n",
       "1    0    1  \n",
       "2    0    1  \n",
       "3    1    1  \n",
       "4   11    1  \n",
       "\n",
       "[5 rows x 29 columns]"
      ]
     },
     "execution_count": 9,
     "metadata": {},
     "output_type": "execute_result"
    }
   ],
   "source": [
    "Data.head()"
   ]
  },
  {
   "cell_type": "code",
   "execution_count": 10,
   "metadata": {},
   "outputs": [],
   "source": [
    "import matplotlib.pyplot as plt\n",
    "import seaborn as sns\n",
    "\n",
    "from datetime import datetime"
   ]
  },
  {
   "cell_type": "code",
   "execution_count": 18,
   "metadata": {},
   "outputs": [
    {
     "name": "stdout",
     "output_type": "stream",
     "text": [
      "Collecting pandas-profiling\n",
      "  Downloading https://files.pythonhosted.org/packages/2c/2f/aae19e2173c10a9bb7fee5f5cad35dbe53a393960fc91abc477dcc4661e8/pandas-profiling-2.3.0.tar.gz (127kB)\n",
      "Requirement already satisfied: pandas>=0.19 in e:\\anaconda3\\lib\\site-packages (from pandas-profiling) (0.24.2)\n",
      "Requirement already satisfied: matplotlib>=1.4 in e:\\anaconda3\\lib\\site-packages (from pandas-profiling) (3.0.3)\n",
      "Requirement already satisfied: jinja2>=2.8 in e:\\anaconda3\\lib\\site-packages (from pandas-profiling) (2.10)\n",
      "Collecting missingno>=0.4.2 (from pandas-profiling)\n",
      "  Downloading https://files.pythonhosted.org/packages/2b/de/6e4dd6d720c49939544352155dc06a08c9f7e4271aa631a559dfbeaaf9d4/missingno-0.4.2-py3-none-any.whl\n",
      "Collecting htmlmin>=0.1.12 (from pandas-profiling)\n",
      "  Downloading https://files.pythonhosted.org/packages/b3/e7/fcd59e12169de19f0131ff2812077f964c6b960e7c09804d30a7bf2ab461/htmlmin-0.1.12.tar.gz\n",
      "Collecting phik>=0.9.8 (from pandas-profiling)\n",
      "  Downloading https://files.pythonhosted.org/packages/45/ad/24a16fa4ba612fb96a3c4bb115a5b9741483f53b66d3d3afd987f20fa227/phik-0.9.8-py3-none-any.whl (606kB)\n",
      "Collecting confuse>=1.0.0 (from pandas-profiling)\n",
      "  Downloading https://files.pythonhosted.org/packages/4c/6f/90e860cba937c174d8b3775729ccc6377eb91f52ad4eeb008e7252a3646d/confuse-1.0.0.tar.gz\n",
      "Requirement already satisfied: astropy in e:\\anaconda3\\lib\\site-packages (from pandas-profiling) (3.1.2)\n",
      "Requirement already satisfied: numpy>=1.12.0 in e:\\anaconda3\\lib\\site-packages (from pandas>=0.19->pandas-profiling) (1.16.2)\n",
      "Requirement already satisfied: pytz>=2011k in e:\\anaconda3\\lib\\site-packages (from pandas>=0.19->pandas-profiling) (2018.9)\n",
      "Requirement already satisfied: python-dateutil>=2.5.0 in e:\\anaconda3\\lib\\site-packages (from pandas>=0.19->pandas-profiling) (2.8.0)\n",
      "Requirement already satisfied: cycler>=0.10 in e:\\anaconda3\\lib\\site-packages (from matplotlib>=1.4->pandas-profiling) (0.10.0)\n",
      "Requirement already satisfied: kiwisolver>=1.0.1 in e:\\anaconda3\\lib\\site-packages (from matplotlib>=1.4->pandas-profiling) (1.0.1)\n",
      "Requirement already satisfied: pyparsing!=2.0.4,!=2.1.2,!=2.1.6,>=2.0.1 in e:\\anaconda3\\lib\\site-packages (from matplotlib>=1.4->pandas-profiling) (2.3.1)\n",
      "Requirement already satisfied: MarkupSafe>=0.23 in e:\\anaconda3\\lib\\site-packages (from jinja2>=2.8->pandas-profiling) (1.1.1)\n",
      "Requirement already satisfied: seaborn in e:\\anaconda3\\lib\\site-packages (from missingno>=0.4.2->pandas-profiling) (0.9.0)\n",
      "Requirement already satisfied: scipy in e:\\anaconda3\\lib\\site-packages (from missingno>=0.4.2->pandas-profiling) (1.2.1)\n",
      "Requirement already satisfied: numba>=0.38.1 in e:\\anaconda3\\lib\\site-packages (from phik>=0.9.8->pandas-profiling) (0.43.1)\n",
      "Requirement already satisfied: nbconvert>=5.3.1 in e:\\anaconda3\\lib\\site-packages (from phik>=0.9.8->pandas-profiling) (5.4.1)\n",
      "Requirement already satisfied: pytest>=4.0.2 in e:\\anaconda3\\lib\\site-packages (from phik>=0.9.8->pandas-profiling) (4.3.1)\n",
      "Collecting pytest-pylint>=0.13.0 (from phik>=0.9.8->pandas-profiling)\n",
      "  Downloading https://files.pythonhosted.org/packages/64/dc/6f35f114844fb12e38d60c4f3d2441a55baff7043ad4e013777dff55746c/pytest_pylint-0.14.1-py3-none-any.whl\n",
      "Requirement already satisfied: jupyter-client>=5.2.3 in e:\\anaconda3\\lib\\site-packages (from phik>=0.9.8->pandas-profiling) (5.2.4)\n",
      "Requirement already satisfied: pyyaml in e:\\anaconda3\\lib\\site-packages (from confuse>=1.0.0->pandas-profiling) (5.1)\n",
      "Requirement already satisfied: six>=1.5 in e:\\anaconda3\\lib\\site-packages (from python-dateutil>=2.5.0->pandas>=0.19->pandas-profiling) (1.12.0)\n",
      "Requirement already satisfied: setuptools in e:\\anaconda3\\lib\\site-packages (from kiwisolver>=1.0.1->matplotlib>=1.4->pandas-profiling) (40.8.0)\n",
      "Requirement already satisfied: llvmlite>=0.28.0dev0 in e:\\anaconda3\\lib\\site-packages (from numba>=0.38.1->phik>=0.9.8->pandas-profiling) (0.28.0)\n",
      "Requirement already satisfied: mistune>=0.8.1 in e:\\anaconda3\\lib\\site-packages (from nbconvert>=5.3.1->phik>=0.9.8->pandas-profiling) (0.8.4)\n",
      "Requirement already satisfied: pygments in e:\\anaconda3\\lib\\site-packages (from nbconvert>=5.3.1->phik>=0.9.8->pandas-profiling) (2.3.1)\n",
      "Requirement already satisfied: traitlets>=4.2 in e:\\anaconda3\\lib\\site-packages (from nbconvert>=5.3.1->phik>=0.9.8->pandas-profiling) (4.3.2)\n",
      "Requirement already satisfied: jupyter_core in e:\\anaconda3\\lib\\site-packages (from nbconvert>=5.3.1->phik>=0.9.8->pandas-profiling) (4.4.0)\n",
      "Requirement already satisfied: nbformat>=4.4 in e:\\anaconda3\\lib\\site-packages (from nbconvert>=5.3.1->phik>=0.9.8->pandas-profiling) (4.4.0)\n",
      "Requirement already satisfied: entrypoints>=0.2.2 in e:\\anaconda3\\lib\\site-packages (from nbconvert>=5.3.1->phik>=0.9.8->pandas-profiling) (0.3)\n",
      "Requirement already satisfied: bleach in e:\\anaconda3\\lib\\site-packages (from nbconvert>=5.3.1->phik>=0.9.8->pandas-profiling) (3.1.0)\n",
      "Requirement already satisfied: pandocfilters>=1.4.1 in e:\\anaconda3\\lib\\site-packages (from nbconvert>=5.3.1->phik>=0.9.8->pandas-profiling) (1.4.2)\n",
      "Requirement already satisfied: testpath in e:\\anaconda3\\lib\\site-packages (from nbconvert>=5.3.1->phik>=0.9.8->pandas-profiling) (0.4.2)\n",
      "Requirement already satisfied: defusedxml in e:\\anaconda3\\lib\\site-packages (from nbconvert>=5.3.1->phik>=0.9.8->pandas-profiling) (0.5.0)\n",
      "Requirement already satisfied: py>=1.5.0 in e:\\anaconda3\\lib\\site-packages (from pytest>=4.0.2->phik>=0.9.8->pandas-profiling) (1.8.0)\n",
      "Requirement already satisfied: attrs>=17.4.0 in e:\\anaconda3\\lib\\site-packages (from pytest>=4.0.2->phik>=0.9.8->pandas-profiling) (19.1.0)\n",
      "Requirement already satisfied: atomicwrites>=1.0 in e:\\anaconda3\\lib\\site-packages (from pytest>=4.0.2->phik>=0.9.8->pandas-profiling) (1.3.0)\n",
      "Requirement already satisfied: pluggy>=0.7 in e:\\anaconda3\\lib\\site-packages (from pytest>=4.0.2->phik>=0.9.8->pandas-profiling) (0.9.0)\n",
      "Requirement already satisfied: more-itertools>=4.0.0 in e:\\anaconda3\\lib\\site-packages (from pytest>=4.0.2->phik>=0.9.8->pandas-profiling) (6.0.0)\n",
      "Requirement already satisfied: colorama in e:\\anaconda3\\lib\\site-packages (from pytest>=4.0.2->phik>=0.9.8->pandas-profiling) (0.4.1)\n",
      "Requirement already satisfied: pylint>=1.4.5 in e:\\anaconda3\\lib\\site-packages (from pytest-pylint>=0.13.0->phik>=0.9.8->pandas-profiling) (2.3.1)\n",
      "Requirement already satisfied: pyzmq>=13 in e:\\anaconda3\\lib\\site-packages (from jupyter-client>=5.2.3->phik>=0.9.8->pandas-profiling) (18.0.0)\n",
      "Requirement already satisfied: tornado>=4.1 in e:\\anaconda3\\lib\\site-packages (from jupyter-client>=5.2.3->phik>=0.9.8->pandas-profiling) (6.0.2)\n",
      "Requirement already satisfied: ipython-genutils in e:\\anaconda3\\lib\\site-packages (from traitlets>=4.2->nbconvert>=5.3.1->phik>=0.9.8->pandas-profiling) (0.2.0)\n",
      "Requirement already satisfied: decorator in e:\\anaconda3\\lib\\site-packages (from traitlets>=4.2->nbconvert>=5.3.1->phik>=0.9.8->pandas-profiling) (4.4.0)\n",
      "Requirement already satisfied: jsonschema!=2.5.0,>=2.4 in e:\\anaconda3\\lib\\site-packages (from nbformat>=4.4->nbconvert>=5.3.1->phik>=0.9.8->pandas-profiling) (3.0.1)\n",
      "Requirement already satisfied: webencodings in e:\\anaconda3\\lib\\site-packages (from bleach->nbconvert>=5.3.1->phik>=0.9.8->pandas-profiling) (0.5.1)\n",
      "Requirement already satisfied: astroid<3,>=2.2.0 in e:\\anaconda3\\lib\\site-packages (from pylint>=1.4.5->pytest-pylint>=0.13.0->phik>=0.9.8->pandas-profiling) (2.2.5)\n",
      "Requirement already satisfied: isort<5,>=4.2.5 in e:\\anaconda3\\lib\\site-packages (from pylint>=1.4.5->pytest-pylint>=0.13.0->phik>=0.9.8->pandas-profiling) (4.3.16)\n",
      "Requirement already satisfied: mccabe<0.7,>=0.6 in e:\\anaconda3\\lib\\site-packages (from pylint>=1.4.5->pytest-pylint>=0.13.0->phik>=0.9.8->pandas-profiling) (0.6.1)\n",
      "Requirement already satisfied: pyrsistent>=0.14.0 in e:\\anaconda3\\lib\\site-packages (from jsonschema!=2.5.0,>=2.4->nbformat>=4.4->nbconvert>=5.3.1->phik>=0.9.8->pandas-profiling) (0.14.11)\n",
      "Requirement already satisfied: wrapt in e:\\anaconda3\\lib\\site-packages (from astroid<3,>=2.2.0->pylint>=1.4.5->pytest-pylint>=0.13.0->phik>=0.9.8->pandas-profiling) (1.11.1)\n",
      "Collecting typed-ast>=1.3.0; implementation_name == \"cpython\" (from astroid<3,>=2.2.0->pylint>=1.4.5->pytest-pylint>=0.13.0->phik>=0.9.8->pandas-profiling)\n",
      "  Downloading https://files.pythonhosted.org/packages/2b/6a/dedd021768c44907cb4e0224e81ce323c6d8be8c4571e49c8a3324d472a0/typed_ast-1.4.0-cp37-cp37m-win32.whl (135kB)\n",
      "Requirement already satisfied: lazy-object-proxy in e:\\anaconda3\\lib\\site-packages (from astroid<3,>=2.2.0->pylint>=1.4.5->pytest-pylint>=0.13.0->phik>=0.9.8->pandas-profiling) (1.3.1)\n",
      "Building wheels for collected packages: pandas-profiling, htmlmin, confuse\n",
      "  Building wheel for pandas-profiling (setup.py): started\n",
      "  Building wheel for pandas-profiling (setup.py): finished with status 'done'\n",
      "  Stored in directory: C:\\Users\\Mithlesh Labroo\\AppData\\Local\\pip\\Cache\\wheels\\ce\\c7\\f1\\dbfef4848ebb048cb1d4a22d1ed0c62d8ff2523747235e19fe\n",
      "  Building wheel for htmlmin (setup.py): started\n",
      "  Building wheel for htmlmin (setup.py): finished with status 'done'\n",
      "  Stored in directory: C:\\Users\\Mithlesh Labroo\\AppData\\Local\\pip\\Cache\\wheels\\43\\07\\ac\\7c5a9d708d65247ac1f94066cf1db075540b85716c30255459\n",
      "  Building wheel for confuse (setup.py): started\n",
      "  Building wheel for confuse (setup.py): finished with status 'done'\n",
      "  Stored in directory: C:\\Users\\Mithlesh Labroo\\AppData\\Local\\pip\\Cache\\wheels\\b0\\b2\\96\\2074eee7dbf7b7df69d004c9b6ac4e32dad04fb7666cf943bd\n",
      "Successfully built pandas-profiling htmlmin confuse\n",
      "Installing collected packages: missingno, htmlmin, pytest-pylint, phik, confuse, pandas-profiling, typed-ast\n",
      "Successfully installed confuse-1.0.0 htmlmin-0.1.12 missingno-0.4.2 pandas-profiling-2.3.0 phik-0.9.8 pytest-pylint-0.14.1 typed-ast-1.4.0\n"
     ]
    },
    {
     "name": "stdout",
     "output_type": "stream",
     "text": [
      "Note: you may need to restart the kernel to use updated packages.\n"
     ]
    }
   ],
   "source": [
    "pip install pandas-profiling"
   ]
  },
  {
   "cell_type": "code",
   "execution_count": 11,
   "metadata": {},
   "outputs": [],
   "source": [
    "import pandas_profiling"
   ]
  },
  {
   "cell_type": "code",
   "execution_count": 13,
   "metadata": {},
   "outputs": [
    {
     "name": "stdout",
     "output_type": "stream",
     "text": [
      "Collecting imblearn\n",
      "  Using cached https://files.pythonhosted.org/packages/81/a7/4179e6ebfd654bd0eac0b9c06125b8b4c96a9d0a8ff9e9507eb2a26d2d7e/imblearn-0.0-py2.py3-none-any.whl\n",
      "Collecting imbalanced-learn (from imblearn)\n",
      "  Using cached https://files.pythonhosted.org/packages/e6/62/08c14224a7e242df2cef7b312d2ef821c3931ec9b015ff93bb52ec8a10a3/imbalanced_learn-0.5.0-py3-none-any.whl\n",
      "Requirement already satisfied: numpy>=1.11 in e:\\anaconda3\\lib\\site-packages (from imbalanced-learn->imblearn) (1.16.2)\n",
      "Requirement already satisfied: scipy>=0.17 in e:\\anaconda3\\lib\\site-packages (from imbalanced-learn->imblearn) (1.2.1)\n",
      "Requirement already satisfied: scikit-learn>=0.21 in e:\\anaconda3\\lib\\site-packages (from imbalanced-learn->imblearn) (0.21.3)\n",
      "Requirement already satisfied: joblib>=0.11 in e:\\anaconda3\\lib\\site-packages (from imbalanced-learn->imblearn) (0.13.2)\n",
      "Installing collected packages: imbalanced-learn, imblearn\n",
      "Successfully installed imbalanced-learn-0.5.0 imblearn-0.0\n"
     ]
    }
   ],
   "source": [
    "!pip install imblearn"
   ]
  },
  {
   "cell_type": "code",
   "execution_count": 14,
   "metadata": {},
   "outputs": [
    {
     "data": {
      "text/plain": [
       "(array(['01/01/12', '01/02/12', '01/03/12', '2012-01-01', '2012-02-01',\n",
       "        '2012-03-01'], dtype=object),\n",
       " array([15051, 16423,  4392, 49093, 52334, 14631]))"
      ]
     },
     "execution_count": 14,
     "metadata": {},
     "output_type": "execute_result"
    }
   ],
   "source": [
    "np.unique(Data[\"origination_date\"], return_counts = True)"
   ]
  },
  {
   "cell_type": "code",
   "execution_count": 15,
   "metadata": {},
   "outputs": [
    {
     "name": "stderr",
     "output_type": "stream",
     "text": [
      "E:\\Anaconda3\\lib\\site-packages\\ipykernel_launcher.py:1: SettingWithCopyWarning: \n",
      "A value is trying to be set on a copy of a slice from a DataFrame\n",
      "\n",
      "See the caveats in the documentation: http://pandas.pydata.org/pandas-docs/stable/indexing.html#indexing-view-versus-copy\n",
      "  \"\"\"Entry point for launching an IPython kernel.\n",
      "E:\\Anaconda3\\lib\\site-packages\\ipykernel_launcher.py:2: SettingWithCopyWarning: \n",
      "A value is trying to be set on a copy of a slice from a DataFrame\n",
      "\n",
      "See the caveats in the documentation: http://pandas.pydata.org/pandas-docs/stable/indexing.html#indexing-view-versus-copy\n",
      "  \n",
      "E:\\Anaconda3\\lib\\site-packages\\ipykernel_launcher.py:3: SettingWithCopyWarning: \n",
      "A value is trying to be set on a copy of a slice from a DataFrame\n",
      "\n",
      "See the caveats in the documentation: http://pandas.pydata.org/pandas-docs/stable/indexing.html#indexing-view-versus-copy\n",
      "  This is separate from the ipykernel package so we can avoid doing imports until\n"
     ]
    }
   ],
   "source": [
    "Data[\"origination_date\"][Data[\"origination_date\"]==\"2012-02-01\"] = \"01/02/12\"\n",
    "Data[\"origination_date\"][Data[\"origination_date\"]==\"2012-01-01\"] = \"01/01/12\"\n",
    "Data[\"origination_date\"][Data[\"origination_date\"]==\"2012-03-01\"] = \"01/03/12\""
   ]
  },
  {
   "cell_type": "code",
   "execution_count": 16,
   "metadata": {},
   "outputs": [
    {
     "data": {
      "text/plain": [
       "(array(['01/01/12', '01/02/12', '01/03/12'], dtype=object),\n",
       " array([64144, 68757, 19023]))"
      ]
     },
     "execution_count": 16,
     "metadata": {},
     "output_type": "execute_result"
    }
   ],
   "source": [
    "np.unique(Data[\"origination_date\"], return_counts = True)"
   ]
  },
  {
   "cell_type": "code",
   "execution_count": 17,
   "metadata": {},
   "outputs": [
    {
     "data": {
      "text/plain": [
       "(array(['01/01/12', '01/02/12', '01/03/12'], dtype=object),\n",
       " array([64144, 68757, 19023]))"
      ]
     },
     "execution_count": 17,
     "metadata": {},
     "output_type": "execute_result"
    }
   ],
   "source": [
    "np.unique(Data[\"origination_date\"], return_counts = True)"
   ]
  },
  {
   "cell_type": "code",
   "execution_count": 18,
   "metadata": {},
   "outputs": [
    {
     "data": {
      "text/plain": [
       "(array(['02/2012', '03/2012', '04/2012', '05/2012', 'Apr-12', 'Feb-12',\n",
       "        'Mar-12', 'May-12'], dtype=object),\n",
       " array([  524, 47680, 52840, 15014, 16551,   144, 14661,  4510]))"
      ]
     },
     "execution_count": 18,
     "metadata": {},
     "output_type": "execute_result"
    }
   ],
   "source": [
    "np.unique(Data[\"first_payment_date\"], return_counts = True)"
   ]
  },
  {
   "cell_type": "code",
   "execution_count": 19,
   "metadata": {},
   "outputs": [
    {
     "name": "stderr",
     "output_type": "stream",
     "text": [
      "E:\\Anaconda3\\lib\\site-packages\\ipykernel_launcher.py:1: SettingWithCopyWarning: \n",
      "A value is trying to be set on a copy of a slice from a DataFrame\n",
      "\n",
      "See the caveats in the documentation: http://pandas.pydata.org/pandas-docs/stable/indexing.html#indexing-view-versus-copy\n",
      "  \"\"\"Entry point for launching an IPython kernel.\n",
      "E:\\Anaconda3\\lib\\site-packages\\ipykernel_launcher.py:2: SettingWithCopyWarning: \n",
      "A value is trying to be set on a copy of a slice from a DataFrame\n",
      "\n",
      "See the caveats in the documentation: http://pandas.pydata.org/pandas-docs/stable/indexing.html#indexing-view-versus-copy\n",
      "  \n",
      "E:\\Anaconda3\\lib\\site-packages\\ipykernel_launcher.py:3: SettingWithCopyWarning: \n",
      "A value is trying to be set on a copy of a slice from a DataFrame\n",
      "\n",
      "See the caveats in the documentation: http://pandas.pydata.org/pandas-docs/stable/indexing.html#indexing-view-versus-copy\n",
      "  This is separate from the ipykernel package so we can avoid doing imports until\n",
      "E:\\Anaconda3\\lib\\site-packages\\ipykernel_launcher.py:4: SettingWithCopyWarning: \n",
      "A value is trying to be set on a copy of a slice from a DataFrame\n",
      "\n",
      "See the caveats in the documentation: http://pandas.pydata.org/pandas-docs/stable/indexing.html#indexing-view-versus-copy\n",
      "  after removing the cwd from sys.path.\n"
     ]
    }
   ],
   "source": [
    "Data[\"first_payment_date\"][Data[\"first_payment_date\"]==\"Apr-12\"] = \"04/2012\"\n",
    "Data[\"first_payment_date\"][Data[\"first_payment_date\"]==\"Feb-12\"] = \"02/2012\"\n",
    "Data[\"first_payment_date\"][Data[\"first_payment_date\"]==\"Mar-12\"] = \"03/2012\"\n",
    "Data[\"first_payment_date\"][Data[\"first_payment_date\"]==\"May-12\"] = \"05/2012\""
   ]
  },
  {
   "cell_type": "code",
   "execution_count": 20,
   "metadata": {},
   "outputs": [
    {
     "data": {
      "text/plain": [
       "(array(['02/2012', '03/2012', '04/2012', '05/2012'], dtype=object),\n",
       " array([  668, 62341, 69391, 19524]))"
      ]
     },
     "execution_count": 20,
     "metadata": {},
     "output_type": "execute_result"
    }
   ],
   "source": [
    "np.unique(Data[\"first_payment_date\"], return_counts = True)"
   ]
  },
  {
   "cell_type": "code",
   "execution_count": 21,
   "metadata": {},
   "outputs": [
    {
     "data": {
      "text/html": [
       "<div>\n",
       "<style scoped>\n",
       "    .dataframe tbody tr th:only-of-type {\n",
       "        vertical-align: middle;\n",
       "    }\n",
       "\n",
       "    .dataframe tbody tr th {\n",
       "        vertical-align: top;\n",
       "    }\n",
       "\n",
       "    .dataframe thead th {\n",
       "        text-align: right;\n",
       "    }\n",
       "</style>\n",
       "<table border=\"1\" class=\"dataframe\">\n",
       "  <thead>\n",
       "    <tr style=\"text-align: right;\">\n",
       "      <th></th>\n",
       "      <th>loan_id</th>\n",
       "      <th>source</th>\n",
       "      <th>financial_institution</th>\n",
       "      <th>interest_rate</th>\n",
       "      <th>unpaid_principal_bal</th>\n",
       "      <th>loan_term</th>\n",
       "      <th>origination_date</th>\n",
       "      <th>first_payment_date</th>\n",
       "      <th>loan_to_value</th>\n",
       "      <th>number_of_borrowers</th>\n",
       "      <th>...</th>\n",
       "      <th>m4</th>\n",
       "      <th>m5</th>\n",
       "      <th>m6</th>\n",
       "      <th>m7</th>\n",
       "      <th>m8</th>\n",
       "      <th>m9</th>\n",
       "      <th>m10</th>\n",
       "      <th>m11</th>\n",
       "      <th>m12</th>\n",
       "      <th>m13</th>\n",
       "    </tr>\n",
       "  </thead>\n",
       "  <tbody>\n",
       "    <tr>\n",
       "      <th>count</th>\n",
       "      <td>1.519240e+05</td>\n",
       "      <td>151924</td>\n",
       "      <td>151924</td>\n",
       "      <td>151924.000000</td>\n",
       "      <td>1.519240e+05</td>\n",
       "      <td>151924.000000</td>\n",
       "      <td>151924</td>\n",
       "      <td>151924</td>\n",
       "      <td>151924.000000</td>\n",
       "      <td>151924.000000</td>\n",
       "      <td>...</td>\n",
       "      <td>151924.000000</td>\n",
       "      <td>151924.000000</td>\n",
       "      <td>151924.000000</td>\n",
       "      <td>151924.000000</td>\n",
       "      <td>151924.000000</td>\n",
       "      <td>151924.000000</td>\n",
       "      <td>151924.000000</td>\n",
       "      <td>151924.000000</td>\n",
       "      <td>151924.000000</td>\n",
       "      <td>151924.000000</td>\n",
       "    </tr>\n",
       "    <tr>\n",
       "      <th>unique</th>\n",
       "      <td>NaN</td>\n",
       "      <td>3</td>\n",
       "      <td>19</td>\n",
       "      <td>NaN</td>\n",
       "      <td>NaN</td>\n",
       "      <td>NaN</td>\n",
       "      <td>3</td>\n",
       "      <td>4</td>\n",
       "      <td>NaN</td>\n",
       "      <td>NaN</td>\n",
       "      <td>...</td>\n",
       "      <td>NaN</td>\n",
       "      <td>NaN</td>\n",
       "      <td>NaN</td>\n",
       "      <td>NaN</td>\n",
       "      <td>NaN</td>\n",
       "      <td>NaN</td>\n",
       "      <td>NaN</td>\n",
       "      <td>NaN</td>\n",
       "      <td>NaN</td>\n",
       "      <td>NaN</td>\n",
       "    </tr>\n",
       "    <tr>\n",
       "      <th>top</th>\n",
       "      <td>NaN</td>\n",
       "      <td>X</td>\n",
       "      <td>OTHER</td>\n",
       "      <td>NaN</td>\n",
       "      <td>NaN</td>\n",
       "      <td>NaN</td>\n",
       "      <td>01/02/12</td>\n",
       "      <td>04/2012</td>\n",
       "      <td>NaN</td>\n",
       "      <td>NaN</td>\n",
       "      <td>...</td>\n",
       "      <td>NaN</td>\n",
       "      <td>NaN</td>\n",
       "      <td>NaN</td>\n",
       "      <td>NaN</td>\n",
       "      <td>NaN</td>\n",
       "      <td>NaN</td>\n",
       "      <td>NaN</td>\n",
       "      <td>NaN</td>\n",
       "      <td>NaN</td>\n",
       "      <td>NaN</td>\n",
       "    </tr>\n",
       "    <tr>\n",
       "      <th>freq</th>\n",
       "      <td>NaN</td>\n",
       "      <td>83572</td>\n",
       "      <td>64861</td>\n",
       "      <td>NaN</td>\n",
       "      <td>NaN</td>\n",
       "      <td>NaN</td>\n",
       "      <td>68757</td>\n",
       "      <td>69391</td>\n",
       "      <td>NaN</td>\n",
       "      <td>NaN</td>\n",
       "      <td>...</td>\n",
       "      <td>NaN</td>\n",
       "      <td>NaN</td>\n",
       "      <td>NaN</td>\n",
       "      <td>NaN</td>\n",
       "      <td>NaN</td>\n",
       "      <td>NaN</td>\n",
       "      <td>NaN</td>\n",
       "      <td>NaN</td>\n",
       "      <td>NaN</td>\n",
       "      <td>NaN</td>\n",
       "    </tr>\n",
       "    <tr>\n",
       "      <th>mean</th>\n",
       "      <td>4.197103e+11</td>\n",
       "      <td>NaN</td>\n",
       "      <td>NaN</td>\n",
       "      <td>3.869879</td>\n",
       "      <td>2.081173e+05</td>\n",
       "      <td>292.481458</td>\n",
       "      <td>NaN</td>\n",
       "      <td>NaN</td>\n",
       "      <td>67.421645</td>\n",
       "      <td>1.594040</td>\n",
       "      <td>...</td>\n",
       "      <td>0.002139</td>\n",
       "      <td>0.003337</td>\n",
       "      <td>0.003173</td>\n",
       "      <td>0.003976</td>\n",
       "      <td>0.004555</td>\n",
       "      <td>0.005114</td>\n",
       "      <td>0.006365</td>\n",
       "      <td>0.006885</td>\n",
       "      <td>0.007892</td>\n",
       "      <td>0.004186</td>\n",
       "    </tr>\n",
       "    <tr>\n",
       "      <th>std</th>\n",
       "      <td>3.255504e+11</td>\n",
       "      <td>NaN</td>\n",
       "      <td>NaN</td>\n",
       "      <td>0.460908</td>\n",
       "      <td>1.146558e+05</td>\n",
       "      <td>89.653613</td>\n",
       "      <td>NaN</td>\n",
       "      <td>NaN</td>\n",
       "      <td>17.281065</td>\n",
       "      <td>0.491078</td>\n",
       "      <td>...</td>\n",
       "      <td>0.061484</td>\n",
       "      <td>0.080205</td>\n",
       "      <td>0.083153</td>\n",
       "      <td>0.097749</td>\n",
       "      <td>0.108693</td>\n",
       "      <td>0.122103</td>\n",
       "      <td>0.142497</td>\n",
       "      <td>0.158087</td>\n",
       "      <td>0.174150</td>\n",
       "      <td>0.064566</td>\n",
       "    </tr>\n",
       "    <tr>\n",
       "      <th>min</th>\n",
       "      <td>1.000000e+00</td>\n",
       "      <td>NaN</td>\n",
       "      <td>NaN</td>\n",
       "      <td>2.250000</td>\n",
       "      <td>1.100000e+04</td>\n",
       "      <td>60.000000</td>\n",
       "      <td>NaN</td>\n",
       "      <td>NaN</td>\n",
       "      <td>5.000000</td>\n",
       "      <td>1.000000</td>\n",
       "      <td>...</td>\n",
       "      <td>0.000000</td>\n",
       "      <td>0.000000</td>\n",
       "      <td>0.000000</td>\n",
       "      <td>0.000000</td>\n",
       "      <td>0.000000</td>\n",
       "      <td>0.000000</td>\n",
       "      <td>0.000000</td>\n",
       "      <td>0.000000</td>\n",
       "      <td>0.000000</td>\n",
       "      <td>0.000000</td>\n",
       "    </tr>\n",
       "    <tr>\n",
       "      <th>25%</th>\n",
       "      <td>1.158882e+11</td>\n",
       "      <td>NaN</td>\n",
       "      <td>NaN</td>\n",
       "      <td>3.500000</td>\n",
       "      <td>1.200000e+05</td>\n",
       "      <td>180.000000</td>\n",
       "      <td>NaN</td>\n",
       "      <td>NaN</td>\n",
       "      <td>57.000000</td>\n",
       "      <td>1.000000</td>\n",
       "      <td>...</td>\n",
       "      <td>0.000000</td>\n",
       "      <td>0.000000</td>\n",
       "      <td>0.000000</td>\n",
       "      <td>0.000000</td>\n",
       "      <td>0.000000</td>\n",
       "      <td>0.000000</td>\n",
       "      <td>0.000000</td>\n",
       "      <td>0.000000</td>\n",
       "      <td>0.000000</td>\n",
       "      <td>0.000000</td>\n",
       "    </tr>\n",
       "    <tr>\n",
       "      <th>50%</th>\n",
       "      <td>4.103649e+11</td>\n",
       "      <td>NaN</td>\n",
       "      <td>NaN</td>\n",
       "      <td>3.875000</td>\n",
       "      <td>1.820000e+05</td>\n",
       "      <td>360.000000</td>\n",
       "      <td>NaN</td>\n",
       "      <td>NaN</td>\n",
       "      <td>72.000000</td>\n",
       "      <td>2.000000</td>\n",
       "      <td>...</td>\n",
       "      <td>0.000000</td>\n",
       "      <td>0.000000</td>\n",
       "      <td>0.000000</td>\n",
       "      <td>0.000000</td>\n",
       "      <td>0.000000</td>\n",
       "      <td>0.000000</td>\n",
       "      <td>0.000000</td>\n",
       "      <td>0.000000</td>\n",
       "      <td>0.000000</td>\n",
       "      <td>0.000000</td>\n",
       "    </tr>\n",
       "    <tr>\n",
       "      <th>75%</th>\n",
       "      <td>7.040456e+11</td>\n",
       "      <td>NaN</td>\n",
       "      <td>NaN</td>\n",
       "      <td>4.125000</td>\n",
       "      <td>2.780000e+05</td>\n",
       "      <td>360.000000</td>\n",
       "      <td>NaN</td>\n",
       "      <td>NaN</td>\n",
       "      <td>80.000000</td>\n",
       "      <td>2.000000</td>\n",
       "      <td>...</td>\n",
       "      <td>0.000000</td>\n",
       "      <td>0.000000</td>\n",
       "      <td>0.000000</td>\n",
       "      <td>0.000000</td>\n",
       "      <td>0.000000</td>\n",
       "      <td>0.000000</td>\n",
       "      <td>0.000000</td>\n",
       "      <td>0.000000</td>\n",
       "      <td>0.000000</td>\n",
       "      <td>0.000000</td>\n",
       "    </tr>\n",
       "    <tr>\n",
       "      <th>max</th>\n",
       "      <td>9.999971e+11</td>\n",
       "      <td>NaN</td>\n",
       "      <td>NaN</td>\n",
       "      <td>6.750000</td>\n",
       "      <td>1.200000e+06</td>\n",
       "      <td>360.000000</td>\n",
       "      <td>NaN</td>\n",
       "      <td>NaN</td>\n",
       "      <td>97.000000</td>\n",
       "      <td>2.000000</td>\n",
       "      <td>...</td>\n",
       "      <td>6.000000</td>\n",
       "      <td>7.000000</td>\n",
       "      <td>8.000000</td>\n",
       "      <td>9.000000</td>\n",
       "      <td>10.000000</td>\n",
       "      <td>11.000000</td>\n",
       "      <td>12.000000</td>\n",
       "      <td>13.000000</td>\n",
       "      <td>14.000000</td>\n",
       "      <td>1.000000</td>\n",
       "    </tr>\n",
       "  </tbody>\n",
       "</table>\n",
       "<p>11 rows × 29 columns</p>\n",
       "</div>"
      ],
      "text/plain": [
       "             loan_id  source financial_institution  interest_rate  \\\n",
       "count   1.519240e+05  151924                151924  151924.000000   \n",
       "unique           NaN       3                    19            NaN   \n",
       "top              NaN       X                 OTHER            NaN   \n",
       "freq             NaN   83572                 64861            NaN   \n",
       "mean    4.197103e+11     NaN                   NaN       3.869879   \n",
       "std     3.255504e+11     NaN                   NaN       0.460908   \n",
       "min     1.000000e+00     NaN                   NaN       2.250000   \n",
       "25%     1.158882e+11     NaN                   NaN       3.500000   \n",
       "50%     4.103649e+11     NaN                   NaN       3.875000   \n",
       "75%     7.040456e+11     NaN                   NaN       4.125000   \n",
       "max     9.999971e+11     NaN                   NaN       6.750000   \n",
       "\n",
       "        unpaid_principal_bal      loan_term origination_date  \\\n",
       "count           1.519240e+05  151924.000000           151924   \n",
       "unique                   NaN            NaN                3   \n",
       "top                      NaN            NaN         01/02/12   \n",
       "freq                     NaN            NaN            68757   \n",
       "mean            2.081173e+05     292.481458              NaN   \n",
       "std             1.146558e+05      89.653613              NaN   \n",
       "min             1.100000e+04      60.000000              NaN   \n",
       "25%             1.200000e+05     180.000000              NaN   \n",
       "50%             1.820000e+05     360.000000              NaN   \n",
       "75%             2.780000e+05     360.000000              NaN   \n",
       "max             1.200000e+06     360.000000              NaN   \n",
       "\n",
       "       first_payment_date  loan_to_value  number_of_borrowers  ...  \\\n",
       "count              151924  151924.000000        151924.000000  ...   \n",
       "unique                  4            NaN                  NaN  ...   \n",
       "top               04/2012            NaN                  NaN  ...   \n",
       "freq                69391            NaN                  NaN  ...   \n",
       "mean                  NaN      67.421645             1.594040  ...   \n",
       "std                   NaN      17.281065             0.491078  ...   \n",
       "min                   NaN       5.000000             1.000000  ...   \n",
       "25%                   NaN      57.000000             1.000000  ...   \n",
       "50%                   NaN      72.000000             2.000000  ...   \n",
       "75%                   NaN      80.000000             2.000000  ...   \n",
       "max                   NaN      97.000000             2.000000  ...   \n",
       "\n",
       "                   m4             m5             m6             m7  \\\n",
       "count   151924.000000  151924.000000  151924.000000  151924.000000   \n",
       "unique            NaN            NaN            NaN            NaN   \n",
       "top               NaN            NaN            NaN            NaN   \n",
       "freq              NaN            NaN            NaN            NaN   \n",
       "mean         0.002139       0.003337       0.003173       0.003976   \n",
       "std          0.061484       0.080205       0.083153       0.097749   \n",
       "min          0.000000       0.000000       0.000000       0.000000   \n",
       "25%          0.000000       0.000000       0.000000       0.000000   \n",
       "50%          0.000000       0.000000       0.000000       0.000000   \n",
       "75%          0.000000       0.000000       0.000000       0.000000   \n",
       "max          6.000000       7.000000       8.000000       9.000000   \n",
       "\n",
       "                   m8             m9            m10            m11  \\\n",
       "count   151924.000000  151924.000000  151924.000000  151924.000000   \n",
       "unique            NaN            NaN            NaN            NaN   \n",
       "top               NaN            NaN            NaN            NaN   \n",
       "freq              NaN            NaN            NaN            NaN   \n",
       "mean         0.004555       0.005114       0.006365       0.006885   \n",
       "std          0.108693       0.122103       0.142497       0.158087   \n",
       "min          0.000000       0.000000       0.000000       0.000000   \n",
       "25%          0.000000       0.000000       0.000000       0.000000   \n",
       "50%          0.000000       0.000000       0.000000       0.000000   \n",
       "75%          0.000000       0.000000       0.000000       0.000000   \n",
       "max         10.000000      11.000000      12.000000      13.000000   \n",
       "\n",
       "                  m12            m13  \n",
       "count   151924.000000  151924.000000  \n",
       "unique            NaN            NaN  \n",
       "top               NaN            NaN  \n",
       "freq              NaN            NaN  \n",
       "mean         0.007892       0.004186  \n",
       "std          0.174150       0.064566  \n",
       "min          0.000000       0.000000  \n",
       "25%          0.000000       0.000000  \n",
       "50%          0.000000       0.000000  \n",
       "75%          0.000000       0.000000  \n",
       "max         14.000000       1.000000  \n",
       "\n",
       "[11 rows x 29 columns]"
      ]
     },
     "execution_count": 21,
     "metadata": {},
     "output_type": "execute_result"
    }
   ],
   "source": [
    "Data.describe(include = \"all\")"
   ]
  },
  {
   "cell_type": "code",
   "execution_count": 22,
   "metadata": {},
   "outputs": [
    {
     "data": {
      "image/png": "[encoded data removed]",
      "text/plain": [
       "<Figure size 576x396 with 1 Axes>"
      ]
     },
     "metadata": {},
     "output_type": "display_data"
    },
    {
     "data": {
      "text/plain": [
       "0    99.58137\n",
       "1     0.41863\n",
       "Name: m13, dtype: float64"
      ]
     },
     "execution_count": 22,
     "metadata": {},
     "output_type": "execute_result"
    }
   ],
   "source": [
    "Data['m13'].value_counts()\n",
    "sns.countplot(x='m13',data=Data)\n",
    "plt.show()\n",
    "(Data[\"m13\"].value_counts()/Data.shape[0]*100)"
   ]
  },
  {
   "cell_type": "code",
   "execution_count": 23,
   "metadata": {},
   "outputs": [
    {
     "data": {
      "text/plain": [
       "loan_id                     0\n",
       "source                      0\n",
       "financial_institution       0\n",
       "interest_rate               0\n",
       "unpaid_principal_bal        0\n",
       "loan_term                   0\n",
       "origination_date            0\n",
       "first_payment_date          0\n",
       "loan_to_value               0\n",
       "number_of_borrowers         0\n",
       "debt_to_income_ratio        0\n",
       "borrower_credit_score       0\n",
       "loan_purpose                0\n",
       "insurance_percent           0\n",
       "co-borrower_credit_score    0\n",
       "insurance_type              0\n",
       "m1                          0\n",
       "m2                          0\n",
       "m3                          0\n",
       "m4                          0\n",
       "m5                          0\n",
       "m6                          0\n",
       "m7                          0\n",
       "m8                          0\n",
       "m9                          0\n",
       "m10                         0\n",
       "m11                         0\n",
       "m12                         0\n",
       "m13                         0\n",
       "dtype: int64"
      ]
     },
     "execution_count": 23,
     "metadata": {},
     "output_type": "execute_result"
    }
   ],
   "source": [
    "Data.isnull().sum()"
   ]
  },
  {
   "cell_type": "code",
   "execution_count": 24,
   "metadata": {},
   "outputs": [
    {
     "data": {
      "image/png": "[encoded data removed]",
      "text/plain": [
       "<Figure size 1080x1080 with 2 Axes>"
      ]
     },
     "metadata": {},
     "output_type": "display_data"
    }
   ],
   "source": [
    "fig = plt.subplots(figsize = (15,15))\n",
    "sns.heatmap(Data.corr(), annot=True, fmt= '.1f')\n",
    "plt.show()"
   ]
  },
  {
   "cell_type": "code",
   "execution_count": 25,
   "metadata": {},
   "outputs": [],
   "source": [
    "drop_list = ['loan_id', 'co-borrower_credit_score']\n",
    "Data=Data.drop(drop_list, axis=1)"
   ]
  },
  {
   "cell_type": "code",
   "execution_count": 26,
   "metadata": {},
   "outputs": [
    {
     "data": {
      "text/plain": [
       "(151924, 27)"
      ]
     },
     "execution_count": 26,
     "metadata": {},
     "output_type": "execute_result"
    }
   ],
   "source": [
    "Data.shape"
   ]
  },
  {
   "cell_type": "code",
   "execution_count": 27,
   "metadata": {},
   "outputs": [
    {
     "data": {
      "text/plain": [
       "source                    object\n",
       "financial_institution     object\n",
       "interest_rate            float64\n",
       "unpaid_principal_bal       int64\n",
       "loan_term                  int64\n",
       "origination_date          object\n",
       "first_payment_date        object\n",
       "loan_to_value              int64\n",
       "number_of_borrowers      float64\n",
       "debt_to_income_ratio     float64\n",
       "borrower_credit_score    float64\n",
       "loan_purpose              object\n",
       "insurance_percent        float64\n",
       "insurance_type           float64\n",
       "m1                         int64\n",
       "m2                         int64\n",
       "m3                         int64\n",
       "m4                         int64\n",
       "m5                         int64\n",
       "m6                         int64\n",
       "m7                         int64\n",
       "m8                         int64\n",
       "m9                         int64\n",
       "m10                        int64\n",
       "m11                        int64\n",
       "m12                        int64\n",
       "m13                        int64\n",
       "dtype: object"
      ]
     },
     "execution_count": 27,
     "metadata": {},
     "output_type": "execute_result"
    }
   ],
   "source": [
    "Data.dtypes"
   ]
  },
  {
   "cell_type": "code",
   "execution_count": 28,
   "metadata": {},
   "outputs": [
    {
     "name": "stdout",
     "output_type": "stream",
     "text": [
      "3    source\n",
      "19    financial_institution\n",
      "1121    interest_rate\n",
      "660    unpaid_principal_bal\n",
      "149    loan_term\n",
      "3    origination_date\n",
      "4    first_payment_date\n",
      "93    loan_to_value\n",
      "2    number_of_borrowers\n",
      "58    debt_to_income_ratio\n",
      "223    borrower_credit_score\n",
      "3    loan_purpose\n",
      "14    insurance_percent\n",
      "2    insurance_type\n",
      "4    m1\n",
      "5    m2\n",
      "6    m3\n",
      "7    m4\n",
      "8    m5\n",
      "9    m6\n",
      "10    m7\n",
      "10    m8\n",
      "11    m9\n",
      "12    m10\n",
      "13    m11\n",
      "13    m12\n",
      "2    m13\n"
     ]
    }
   ],
   "source": [
    "for column in Data.columns:\n",
    "    print(Data[column].nunique(),\"  \", column)"
   ]
  },
  {
   "cell_type": "code",
   "execution_count": 29,
   "metadata": {},
   "outputs": [
    {
     "name": "stdout",
     "output_type": "stream",
     "text": [
      "['Z', 'Y', 'X']   source\n",
      "['Turner, Baldwin and Rhodes', 'Swanson, Newton and Miller', 'Thornton-Davis', 'OTHER', 'Browning-Hart', 'Richardson Ltd', 'Edwards-Hoffman', 'Richards-Walters', 'Martinez, Duffy and Bird', 'Miller, Mcclure and Allen', 'Anderson-Taylor', 'Taylor, Hunt and Rodriguez', 'Nicholson Group', 'Cole, Brooks and Vincent', 'Sanchez, Hays and Wilkerson', 'Sanchez-Robinson', 'Suarez Inc', 'Romero, Woods and Johnson', 'Chapman-Mcmahon']   financial_institution\n",
      "[4.25, 4.875, 3.25, 4.75, 4.375, 4.0, 4.5, 4.125, 3.75, 4.625, 5.125, 3.375, 3.99, 4.312, 3.875, 5.5, 3.5, 3.33, 5.0, 3.625, 5.25, 2.875, 3.46, 3.98, 3.928, 5.375, 3.95, 4.05, 3.125, 3.0, 5.75, 3.74, 3.709, 4.3, 4.99, 4.225, 5.875, 4.28, 4.58, 4.9, 4.49, 4.1, 3.856, 4.54, 3.77, 3.504, 3.958, 4.06, 3.87, 3.1, 3.94, 4.124, 4.015, 2.95, 3.167, 3.835, 3.938, 3.503, 3.438, 3.49, 3.24, 4.19, 3.902, 4.46, 3.289, 3.978, 4.03, 4.3580000000000005, 2.99, 3.795, 3.074, 3.91, 2.975, 3.71, 2.75, 4.08, 4.876, 3.185, 3.35, 4.2, 4.864, 3.613, 3.865, 4.917, 3.908, 3.337, 3.92, 2.625, 3.43, 3.65, 4.17, 3.85, 3.985, 2.775, 3.79, 3.67, 3.947, 4.048, 2.8, 3.17, 4.21, 4.849, 3.83, 4.521, 3.852, 3.943, 3.999, 3.972, 3.18, 3.4760000000000004, 4.9860000000000015, 3.42, 3.2, 4.119, 5.625, 3.175, 3.41, 3.145, 3.837, 3.3310000000000004, 3.7, 3.983, 4.115, 4.499, 3.16, 3.45, 3.319, 3.93, 3.8, 3.925, 3.73, 4.368, 3.13, 3.9, 3.05, 3.54, 3.08, 4.29, 3.58, 3.81, 3.31, 4.089, 3.97, 3.746, 4.217, 3.825, 3.4, 3.392, 3.321, 3.976, 3.47, 4.33, 3.184, 4.09, 4.31, 3.847, 3.923, 3.15, 3.426, 4.012, 3.84, 3.819, 3.134, 3.932, 4.334, 3.0660000000000003, 2.825, 4.56, 3.708, 3.988, 4.44, 3.427, 4.637, 4.04, 4.046, 4.482, 3.936, 4.287, 6.25, 2.88, 3.48, 3.363, 3.846, 3.981, 3.1910000000000003, 4.47, 3.3, 3.727, 3.23, 3.096, 3.498, 3.945, 4.269, 3.873, 3.915, 3.34, 3.367, 3.952, 3.851, 3.675, 3.96, 3.329, 3.78, 3.248, 4.175, 3.759, 3.59, 3.762, 3.53, 2.93, 3.379, 3.56, 3.686, 3.55, 3.89, 4.303, 3.884, 3.5010000000000003, 3.768, 3.44, 3.822, 4.35, 4.259, 3.326, 3.04, 3.786, 4.27, 4.093, 3.953, 3.674, 3.949, 4.71, 3.28, 3.653, 4.4, 3.491, 4.202, 3.056, 3.989, 3.225, 3.903, 4.34, 2.999, 5.69, 3.249, 4.16, 3.045, 3.951, 3.792, 4.307, 3.508, 3.245, 3.771, 3.1660000000000004, 4.391, 3.858, 3.796, 3.635, 3.725, 4.075, 3.19, 4.615, 4.088, 4.044, 3.355, 3.965, 3.741, 3.804, 4.163, 2.375, 4.438, 2.725, 3.66, 3.165, 3.863, 3.052, 3.937, 3.515, 4.408, 3.111, 4.478, 3.975, 3.899, 3.874, 4.4460000000000015, 4.002, 3.751, 4.178, 3.844, 3.228, 3.341, 4.101, 4.242, 4.0680000000000005, 3.4930000000000003, 3.261, 3.887, 3.697, 3.276, 4.2360000000000015, 3.569, 3.131, 3.035, 4.79, 4.052, 2.5, 3.963, 3.812, 2.779, 3.86, 2.847, 3.255, 4.67, 3.488, 2.79, 4.208, 3.334, 3.827, 4.299, 3.606, 4.815, 3.904, 4.4060000000000015, 4.004, 3.913, 4.775, 3.69, 2.997, 3.552, 2.85, 3.939, 3.198, 4.211, 4.042, 4.24, 2.92, 3.237, 4.362, 4.43, 3.238, 3.76, 4.325, 4.15, 3.955, 4.479, 4.245, 4.732, 3.3080000000000003, 2.9, 6.0, 3.769, 4.053, 4.41, 3.906, 3.896, 3.403, 4.336, 2.945, 3.979, 3.966, 4.066, 3.1710000000000003, 3.876, 5.309, 5.21, 3.82, 5.06, 3.948, 3.859, 4.3439999999999985, 2.81, 3.654, 3.29, 3.428, 4.4860000000000015, 4.45, 4.463, 3.373, 3.909, 3.042, 4.084, 2.9960000000000004, 4.235, 3.857, 4.436, 4.372, 4.562, 2.897, 3.295, 3.555, 3.998, 4.147, 4.083, 3.775, 4.195, 3.982, 3.905, 3.813, 3.425, 3.959, 3.265, 4.038, 3.689, 4.502, 3.969, 3.824, 4.489, 3.161, 2.925, 3.805, 3.72, 3.283, 4.78, 3.177, 3.342, 3.934, 4.367, 3.102, 4.097, 3.281, 4.896, 3.525, 4.308, 3.335, 4.103, 5.115, 4.606, 3.486, 4.345, 4.417, 3.861, 3.677, 3.374, 3.886, 3.744, 3.39, 4.073, 4.69, 4.487, 3.893, 3.415, 4.81, 3.02, 3.892, 4.4510000000000005, 4.42, 3.871, 3.6, 3.885, 3.826, 4.3260000000000005, 4.062, 4.207, 3.738, 3.802, 2.977, 3.446, 3.4130000000000003, 6.625, 4.216, 3.144, 4.055, 3.36, 4.181, 4.629, 4.96, 3.897, 3.688, 3.247, 4.927, 3.21, 3.589, 3.592, 3.155, 3.855, 3.564, 3.327, 3.977, 4.22, 5.101, 3.834, 3.935, 4.374, 4.0939999999999985, 4.019, 3.68, 3.025, 3.872, 2.895, 3.3480000000000003, 4.53, 3.273, 3.764, 3.256, 4.55, 4.2639999999999985, 3.236, 4.104, 4.013, 3.957, 3.747, 3.075, 3.0780000000000003, 3.743, 3.215, 3.849, 3.448, 3.971, 4.437, 4.188, 3.232, 3.864, 3.922, 3.838, 3.458, 3.695, 3.3510000000000004, 4.01, 4.97, 3.27, 3.986, 3.914, 3.365, 3.37, 4.018, 3.599, 3.611, 4.609, 4.65, 4.982, 3.195, 4.26, 3.745, 4.092, 3.773, 3.502, 4.258, 5.43, 3.961, 3.3710000000000004, 4.6960000000000015, 3.946, 3.715, 3.452, 3.968, 3.474, 3.842, 3.823, 3.338, 4.2010000000000005, 4.127, 3.219, 4.454, 3.364, 3.455, 5.34, 3.241, 3.07, 3.389, 5.103, 3.383, 3.693, 3.729, 4.825, 3.449, 3.275, 4.106, 4.169, 4.338, 3.463, 4.173, 3.944, 3.883, 2.8560000000000003, 3.252, 3.666, 3.781, 3.881, 3.721, 3.647, 3.404, 3.88, 4.892, 4.13, 2.965, 5.46, 4.057, 3.1180000000000003, 3.213, 4.229, 5.1720000000000015, 3.733, 3.713, 3.921, 3.344, 5.021, 4.645, 3.09, 3.495, 3.974, 3.836, 4.027, 3.362, 3.845, 4.85, 4.517, 4.1610000000000005, 4.276, 4.146, 3.916, 4.204, 3.912, 2.862, 3.907, 3.299, 3.821, 3.662, 6.5, 4.137, 3.067, 3.942, 4.91, 3.002, 3.385, 5.325, 3.933, 3.918, 4.32, 3.485, 2.83, 3.239, 4.1960000000000015, 3.832, 3.349, 3.672, 3.621, 4.83, 3.323, 3.479, 3.895, 4.541, 3.898, 5.04, 3.393, 3.466, 4.98, 4.313, 3.877, 4.257, 3.545, 3.839, 4.128, 5.03, 4.412, 3.993, 4.099, 3.783, 4.485, 4.045, 4.086, 4.151, 3.475, 3.471, 4.025, 3.568, 4.542, 4.477, 4.001, 3.292, 5.08, 4.183, 3.765, 4.363, 3.956, 4.02, 4.0710000000000015, 3.242, 3.782, 3.862, 4.029, 3.214, 3.632, 5.295, 4.033, 3.841, 3.681, 3.313, 3.3560000000000003, 3.26, 2.69, 4.051, 2.885, 3.894, 3.609, 3.294, 2.761, 4.231, 3.5810000000000004, 4.792, 3.414, 4.495, 3.984, 4.396, 3.465, 3.964, 4.164, 3.1860000000000004, 3.967, 4.063, 3.073, 3.574, 3.315, 3.901, 3.377, 3.401, 2.91, 3.756, 3.551, 3.424, 4.289, 3.122, 4.2860000000000005, 5.28, 3.973, 3.799, 3.253, 4.82, 4.387, 3.381, 4.2810000000000015, 4.254, 4.544, 4.078, 4.356, 4.11, 3.757, 4.275, 4.84, 3.638, 4.3610000000000015, 3.22, 3.257, 4.072, 3.51, 3.779, 3.755, 4.0280000000000005, 4.282, 4.008, 4.109, 3.388, 3.188, 4.095, 4.456, 3.531, 3.926, 3.2960000000000003, 3.229, 3.199, 3.63, 5.403, 4.255, 3.997, 3.359, 3.917, 4.401, 3.405, 3.619, 4.392, 3.147, 3.962, 3.317, 3.703, 4.159, 3.369, 4.273, 4.222, 4.93, 2.978, 4.465, 3.266, 4.022, 3.784, 3.077, 4.274, 3.013, 2.931, 3.259, 3.008, 3.094, 3.2460000000000004, 3.431, 3.833, 3.718, 3.659, 3.853, 5.483, 3.2880000000000003, 3.487, 3.854, 4.126, 2.9160000000000004, 5.127000000000002, 3.869, 4.459, 4.404, 3.888, 3.212, 4.852, 3.422, 4.428, 2.98, 3.287, 3.788, 4.187, 3.366, 3.866, 4.48, 3.919, 5.14, 3.722, 4.405, 4.597, 3.994, 3.596, 3.332, 4.184, 3.576, 4.87, 3.391, 3.022, 3.302, 4.082, 5.1320000000000014, 3.343, 3.987, 4.95, 4.669, 3.878, 3.991, 4.213, 3.911, 4.6789999999999985, 6.75, 4.256, 3.499, 4.291, 4.3180000000000005, 3.399, 3.071, 5.18, 4.199, 4.032, 3.437, 3.624, 3.941, 4.176, 4.016, 5.56, 3.451, 4.473, 3.222, 3.797, 3.868, 3.673, 4.385, 4.9110000000000005, 3.626, 4.805, 3.604, 3.661, 3.931, 3.031, 4.72, 3.454, 4.006, 3.694, 3.207, 3.178, 4.292, 4.891, 3.737, 5.097, 3.318, 4.38, 3.007, 4.158, 5.47, 4.388, 4.0310000000000015, 3.734, 3.605, 3.1260000000000003, 4.023, 3.464, 3.728, 3.305, 3.671, 4.445, 2.865, 4.394, 4.59, 4.506, 3.633, 4.185, 3.752, 2.25, 3.2510000000000003, 4.973, 3.187, 3.3960000000000004, 3.567, 4.66, 4.043, 4.543, 3.731, 4.117, 4.816, 3.2260000000000004, 5.05, 3.325, 3.333, 4.253, 3.4989999999999997, 3.7489999999999997, 3.9760000000000004, 3.7960000000000003, 3.714, 3.3139999999999996, 3.307, 3.406, 5.29, 4.577, 3.7739999999999996, 3.235, 2.8110000000000004, 4.534, 3.9989999999999997, 4.293, 4.52, 3.7760000000000002, 3.284, 4.885, 4.386, 3.8539999999999996, 4.407, 3.262, 3.8360000000000003, 3.9789999999999996, 3.636, 3.9739999999999998, 4.005, 3.5580000000000003, 3.739, 4.981, 4.168, 3.8810000000000002, 4.218999999999999, 3.8689999999999998, 5.496, 3.9130000000000003, 3.3289999999999997, 3.468, 3.279, 3.7239999999999998, 3.8089999999999997, 4.0969999999999995, 3.7769999999999997, 4.5489999999999995, 3.505, 3.668, 2.7560000000000002, 3.735, 2.97, 3.467, 3.193, 3.9939999999999998, 3.8710000000000004, 5.002, 3.063, 4.865, 4.039, 4.053999999999999, 4.907, 4.708, 3.8489999999999998, 4.466, 3.8760000000000003, 3.8930000000000002, 5.58, 3.8369999999999997, 3.7089999999999996, 3.088, 3.176, 3.807, 3.2439999999999998, 3.7430000000000003, 3.9530000000000003, 3.9560000000000004, 3.38, 4.155, 4.1080000000000005, 3.267, 3.3169999999999997, 4.442, 3.4389999999999996, 3.5469999999999997, 3.687, 4.381, 3.8510000000000004, 3.7680000000000002, 4.426, 4.8, 3.801, 3.9330000000000003, 3.8989999999999996, 4.0569999999999995, 3.8960000000000004, 3.8569999999999998, 4.433, 3.2089999999999996, 4.376, 3.7460000000000004, 4.573, 5.31, 4.079, 3.095, 3.395, 3.616, 3.218, 3.477, 3.7439999999999998, 3.7689999999999997, 4.94, 3.6839999999999997, 3.685, 4.196000000000001, 4.784, 3.622, 4.39, 3.891, 3.182, 3.6889999999999996, 3.9419999999999997, 3.9960000000000004, 4.563, 4.457, 3.2489999999999997, 3.657, 4.123, 4.68, 5.44, 3.324, 3.4019999999999997, 4.178999999999999, 4.077, 3.378, 4.578, 3.867, 3.8289999999999997, 3.6460000000000004, 4.167, 3.719, 4.314, 3.699, 3.8939999999999997, 3.196, 3.6310000000000002, 3.352, 3.3689999999999998, 5.19, 4.332, 3.8739999999999997, 4.92, 3.658, 3.8560000000000003, 4.143, 4.959, 3.9930000000000003, 3.2760000000000002, 3.278, 4.154, 3.9160000000000004, 3.2969999999999997, 3.303, 3.9610000000000003, 3.312, 3.345, 4.595, 3.575, 3.7539999999999996, 4.89, 3.06, 3.665, 5.048, 4.587, 4.2989999999999995, 3.815, 5.421, 4.4319999999999995, 4.425, 4.246, 3.055, 3.423, 3.3489999999999998, 5.485, 4.047, 2.951, 4.383, 3.9019999999999997, 5.48, 3.286, 4.986000000000001, 3.8789999999999996, 4.373, 3.614, 4.496, 4.093999999999999, 3.52, 4.342, 3.7939999999999996]   interest_rate\n",
      "[214000, 144000, 366000, 135000, 124000, 150000, 59000, 319000, 520000, 74000, 192000, 46000, 256000, 84000, 48000, 68000, 142000, 89000, 417000, 55000, 60000, 127000, 215000, 246000, 77000, 203000, 162000, 264000, 207000, 200000, 82000, 71000, 588000, 107000, 172000, 76000, 42000, 376000, 412000, 235000, 198000, 67000, 120000, 453000, 80000, 61000, 133000, 267000, 239000, 404000, 70000, 125000, 175000, 115000, 180000, 98000, 188000, 415000, 57000, 249000, 153000, 177000, 315000, 220000, 288000, 64000, 224000, 154000, 345000, 118000, 199000, 304000, 114000, 148000, 105000, 65000, 190000, 185000, 169000, 131000, 116000, 171000, 54000, 344000, 395000, 95000, 110000, 221000, 103000, 160000, 157000, 244000, 91000, 141000, 134000, 295000, 122000, 145000, 413000, 117000, 250000, 163000, 420000, 242000, 183000, 396000, 334000, 165000, 25000, 130000, 90000, 283000, 268000, 96000, 156000, 72000, 386000, 29000, 360000, 47000, 100000, 193000, 210000, 384000, 339000, 136000, 123000, 147000, 216000, 101000, 184000, 182000, 243000, 191000, 164000, 342000, 610000, 272000, 316000, 380000, 252000, 155000, 99000, 400000, 375000, 328000, 126000, 325000, 168000, 282000, 240000, 132000, 225000, 356000, 232000, 86000, 370000, 35000, 128000, 93000, 253000, 87000, 94000, 39000, 238000, 303000, 212000, 159000, 204000, 281000, 194000, 335000, 405000, 176000, 222000, 108000, 340000, 112000, 470000, 411000, 167000, 276000, 347000, 138000, 237000, 310000, 327000, 293000, 88000, 260000, 81000, 410000, 129000, 139000, 296000, 280000, 452000, 379000, 355000, 284000, 143000, 394000, 195000, 262000, 140000, 306000, 391000, 174000, 75000, 113000, 187000, 231000, 152000, 41000, 263000, 62000, 79000, 590000, 383000, 277000, 69000, 213000, 50000, 119000, 186000, 111000, 38000, 137000, 333000, 53000, 78000, 209000, 173000, 245000, 271000, 311000, 44000, 228000, 348000, 218000, 206000, 374000, 354000, 104000, 299000, 368000, 109000, 359000, 248000, 14000, 351000, 85000, 92000, 102000, 387000, 52000, 322000, 30000, 279000, 208000, 305000, 230000, 24000, 300000, 241000, 236000, 270000, 151000, 66000, 97000, 56000, 73000, 201000, 149000, 308000, 403000, 468000, 332000, 234000, 170000, 385000, 227000, 389000, 45000, 358000, 254000, 621000, 317000, 626000, 178000, 526000, 286000, 290000, 196000, 166000, 181000, 146000, 158000, 312000, 275000, 285000, 189000, 302000, 121000, 323000, 233000, 407000, 229000, 273000, 406000, 205000, 83000, 445000, 43000, 392000, 255000, 364000, 211000, 265000, 414000, 297000, 491000, 341000, 397000, 269000, 390000, 321000, 623000, 40000, 378000, 338000, 257000, 202000, 106000, 258000, 353000, 497000, 274000, 298000, 605000, 343000, 259000, 408000, 467000, 388000, 219000, 337000, 476000, 292000, 320000, 313000, 352000, 600000, 289000, 329000, 495000, 402000, 331000, 161000, 557000, 365000, 401000, 361000, 508000, 266000, 37000, 455000, 625000, 223000, 540000, 409000, 226000, 500000, 371000, 456000, 490000, 382000, 603000, 251000, 307000, 287000, 480000, 477000, 399000, 27000, 51000, 451000, 58000, 373000, 330000, 63000, 278000, 501000, 247000, 372000, 416000, 350000, 381000, 309000, 217000, 442000, 555000, 36000, 482000, 26000, 506000, 197000, 294000, 349000, 369000, 357000, 393000, 362000, 620000, 512000, 510000, 609000, 530000, 179000, 433000, 562000, 448000, 544000, 472000, 486000, 425000, 580000, 556000, 326000, 475000, 33000, 346000, 550000, 18000, 318000, 336000, 531000, 460000, 314000, 19000, 616000, 34000, 546000, 581000, 509000, 459000, 458000, 324000, 398000, 534000, 505000, 523000, 440000, 481000, 367000, 444000, 261000, 539000, 377000, 435000, 28000, 606000, 474000, 21000, 428000, 613000, 291000, 32000, 424000, 547000, 619000, 49000, 615000, 437000, 301000, 522000, 536000, 574000, 363000, 612000, 571000, 464000, 436000, 535000, 503000, 607000, 595000, 31000, 617000, 517000, 525000, 450000, 483000, 454000, 560000, 484000, 465000, 429000, 427000, 582000, 507000, 570000, 689000, 543000, 488000, 513000, 575000, 618000, 529000, 439000, 598000, 504000, 494000, 558000, 532000, 438000, 608000, 578000, 566000, 499000, 418000, 449000, 569000, 473000, 479000, 602000, 548000, 541000, 553000, 502000, 514000, 593000, 585000, 462000, 447000, 589000, 518000, 471000, 485000, 597000, 496000, 489000, 466000, 487000, 572000, 469000, 561000, 551000, 563000, 432000, 515000, 577000, 584000, 431000, 552000, 564000, 604000, 586000, 533000, 492000, 493000, 579000, 542000, 521000, 16000, 463000, 23000, 645000, 441000, 640000, 592000, 524000, 594000, 545000, 718000, 537000, 583000, 22000, 528000, 642000, 511000, 527000, 794000, 587000, 498000, 549000, 727000, 591000, 461000, 430000, 559000, 599000, 568000, 596000, 446000, 565000, 478000, 516000, 614000, 705000, 423000, 622000, 20000, 576000, 443000, 601000, 419000, 709000, 554000, 434000, 15000, 567000, 680000, 624000, 656000, 457000, 968000, 708000, 611000, 519000, 538000, 422000, 715000, 707000, 720000, 802000, 635000, 721000, 11000, 573000, 915000, 791000, 665000, 426000, 1200000, 750000, 685000, 742000, 17000, 421000, 765000, 660000, 632000, 686000, 672000, 639000, 780000, 800000, 684000, 713000, 690000, 788000, 630000, 776000, 675000, 644000, 683000, 733000, 754000, 653000]   unpaid_principal_bal\n",
      "[360, 180, 300, 121, 240, 120, 312, 144, 156, 276, 348, 341, 204, 336, 324, 264, 84, 241, 168, 132, 172, 331, 96, 134, 329, 137, 288, 174, 163, 359, 170, 318, 216, 162, 72, 153, 290, 108, 160, 93, 166, 354, 349, 165, 228, 91, 219, 352, 169, 258, 192, 351, 150, 155, 340, 158, 355, 252, 242, 326, 353, 220, 274, 344, 71, 85, 77, 171, 177, 173, 334, 83, 307, 319, 332, 87, 159, 89, 210, 152, 142, 277, 325, 157, 278, 333, 88, 141, 330, 322, 339, 60, 145, 304, 102, 343, 345, 78, 308, 295, 320, 135, 342, 338, 140, 275, 167, 328, 327, 100, 86, 147, 107, 164, 82, 149, 314, 358, 154, 178, 223, 310, 146, 347, 263, 138, 148, 81, 110, 335, 115, 280, 270, 94, 260, 111, 316, 161, 303, 267, 113, 296, 139, 357, 112, 309, 151, 130, 76]   loan_term\n",
      "['01/03/12', '01/01/12', '01/02/12']   origination_date\n",
      "['05/2012', '03/2012', '04/2012', '02/2012']   first_payment_date\n",
      "[95, 72, 49, 46, 80, 62, 76, 90, 55, 70, 65, 56, 50, 44, 75, 85, 73, 58, 77, 32, 74, 47, 79, 20, 33, 67, 30, 38, 40, 43, 35, 68, 52, 60, 54, 53, 69, 57, 78, 88, 48, 39, 63, 92, 29, 94, 59, 89, 87, 61, 31, 42, 84, 64, 97, 36, 66, 93, 82, 25, 86, 26, 27, 71, 23, 96, 28, 45, 21, 24, 11, 51, 37, 41, 19, 91, 22, 34, 83, 18, 12, 16, 17, 15, 14, 13, 81, 6, 7, 10, 8, 9, 5]   loan_to_value\n",
      "[1.0, 2.0]   number_of_borrowers\n",
      "[22.0, 44.0, 33.0, 43.0, 46.0, 45.0, 35.0, 41.0, 42.0, 39.0, 37.0, 32.0, 29.0, 10.0, 19.0, 31.0, 34.0, 36.0, 16.0, 21.0, 40.0, 38.0, 28.0, 23.0, 48.0, 24.0, 25.0, 15.0, 49.0, 17.0, 30.0, 18.0, 27.0, 47.0, 26.0, 20.0, 50.0, 12.0, 14.0, 13.0, 11.0, 9.0, 8.0, 6.0, 7.0, 56.0, 3.0, 5.0, 4.0, 1.0, 2.0, 52.0, 51.0, 61.0, 58.0, 53.0, 55.0, 64.0]   debt_to_income_ratio\n",
      "[694.0, 697.0, 780.0, 633.0, 681.0, 675.0, 723.0, 652.0, 808.0, 702.0, 738.0, 742.0, 739.0, 757.0, 687.0, 731.0, 699.0, 669.0, 711.0, 640.0, 621.0, 746.0, 667.0, 779.0, 807.0, 683.0, 776.0, 747.0, 630.0, 661.0, 759.0, 650.0, 686.0, 741.0, 802.0, 726.0, 801.0, 627.0, 648.0, 641.0, 692.0, 678.0, 789.0, 758.0, 679.0, 740.0, 729.0, 733.0, 626.0, 790.0, 778.0, 787.0, 714.0, 783.0, 795.0, 672.0, 771.0, 764.0, 784.0, 685.0, 684.0, 654.0, 775.0, 727.0, 712.0, 761.0, 691.0, 701.0, 773.0, 716.0, 777.0, 753.0, 689.0, 696.0, 709.0, 760.0, 668.0, 635.0, 703.0, 677.0, 743.0, 786.0, 768.0, 665.0, 639.0, 717.0, 637.0, 809.0, 674.0, 676.0, 756.0, 737.0, 806.0, 700.0, 763.0, 659.0, 707.0, 730.0, 719.0, 798.0, 673.0, 643.0, 645.0, 666.0, 663.0, 657.0, 658.0, 660.0, 744.0, 680.0, 811.0, 813.0, 804.0, 734.0, 728.0, 705.0, 770.0, 749.0, 794.0, 793.0, 785.0, 664.0, 754.0, 721.0, 646.0, 755.0, 688.0, 655.0, 769.0, 799.0, 810.0, 708.0, 821.0, 796.0, 670.0, 788.0, 745.0, 629.0, 698.0, 765.0, 624.0, 682.0, 695.0, 750.0, 735.0, 706.0, 690.0, 767.0, 766.0, 815.0, 772.0, 638.0, 632.0, 649.0, 653.0, 803.0, 644.0, 720.0, 693.0, 792.0, 715.0, 671.0, 656.0, 781.0, 748.0, 634.0, 662.0, 805.0, 732.0, 713.0, 774.0, 651.0, 736.0, 710.0, 636.0, 625.0, 791.0, 647.0, 718.0, 642.0, 722.0, 724.0, 620.0, 816.0, 762.0, 631.0, 782.0, 797.0, 704.0, 752.0, 818.0, 480.0, 812.0, 800.0, 0.0, 820.0, 817.0, 814.0, 828.0, 824.0, 819.0, 829.0, 751.0, 823.0, 822.0, 623.0, 725.0, 825.0, 827.0, 622.0, 834.0, 628.0, 833.0, 826.0, 830.0, 832.0, 840.0, 838.0, 559.0, 619.0, 831.0, 835.0, 839.0]   borrower_credit_score\n",
      "['C86', 'B12', 'A23']   loan_purpose\n",
      "[30.0, 0.0, 25.0, 6.0, 12.0, 35.0, 22.0, 16.0, 18.0, 15.0, 17.0, 40.0, 20.0, 39.0]   insurance_percent\n",
      "[0.0, 1.0]   insurance_type\n",
      "[0, 1, 2, 3]   m1\n",
      "[0, 1, 2, 3, 4]   m2\n",
      "[0, 2, 1, 3, 4, 5]   m3\n"
     ]
    },
    {
     "name": "stdout",
     "output_type": "stream",
     "text": [
      "[0, 3, 1, 2, 4, 5, 6]   m4\n",
      "[0, 4, 1, 3, 2, 5, 6, 7]   m5\n",
      "[0, 5, 1, 2, 4, 3, 6, 7, 8]   m6\n",
      "[1, 0, 6, 3, 5, 2, 4, 7, 8, 9]   m7\n",
      "[0, 7, 1, 4, 6, 2, 5, 3, 9, 10]   m8\n",
      "[0, 1, 8, 5, 7, 3, 6, 2, 10, 4, 11]   m9\n",
      "[0, 1, 9, 2, 6, 8, 4, 3, 7, 11, 5, 12]   m10\n",
      "[0, 1, 10, 2, 7, 9, 5, 3, 8, 4, 6, 11, 13]   m11\n",
      "[0, 1, 11, 2, 8, 3, 10, 6, 9, 5, 4, 7, 14]   m12\n",
      "[1, 0]   m13\n"
     ]
    }
   ],
   "source": [
    "for col in Data:\n",
    "    print (Data[col].unique().tolist(), \" \", col)  "
   ]
  },
  {
   "cell_type": "code",
   "execution_count": 30,
   "metadata": {},
   "outputs": [],
   "source": [
    "from sklearn.preprocessing import LabelEncoder, OneHotEncoder"
   ]
  },
  {
   "cell_type": "code",
   "execution_count": 31,
   "metadata": {},
   "outputs": [],
   "source": [
    "for x in Data.columns:\n",
    "    if Data[x].dtype == type(object):\n",
    "        Data[x] = Data[x].fillna('NaN')\n",
    "        encoder = LabelEncoder()\n",
    "        Data[x] = encoder.fit_transform(Data[x])"
   ]
  },
  {
   "cell_type": "code",
   "execution_count": 32,
   "metadata": {},
   "outputs": [
    {
     "data": {
      "text/plain": [
       "(151924, 27)"
      ]
     },
     "execution_count": 32,
     "metadata": {},
     "output_type": "execute_result"
    }
   ],
   "source": [
    "Data.shape"
   ]
  },
  {
   "cell_type": "code",
   "execution_count": 33,
   "metadata": {},
   "outputs": [],
   "source": [
    "X = Data.copy().drop('m13', axis=1).values\n",
    "y = Data['m13']"
   ]
  },
  {
   "cell_type": "code",
   "execution_count": 34,
   "metadata": {},
   "outputs": [],
   "source": [
    "from sklearn.model_selection import train_test_split\n",
    "X_train, X_test, y_train, y_test = train_test_split(X, y, test_size = 0.25, random_state = 0)"
   ]
  },
  {
   "cell_type": "code",
   "execution_count": 35,
   "metadata": {},
   "outputs": [],
   "source": [
    "from imblearn.over_sampling import SMOTE\n",
    "from sklearn.utils import class_weight\n",
    "from imblearn.combine import SMOTETomek"
   ]
  },
  {
   "cell_type": "code",
   "execution_count": 36,
   "metadata": {},
   "outputs": [
    {
     "data": {
      "text/plain": [
       "RandomForestClassifier(bootstrap=True, class_weight='balanced',\n",
       "                       criterion='entropy', max_depth=10, max_features='auto',\n",
       "                       max_leaf_nodes=None, min_impurity_decrease=0.0,\n",
       "                       min_impurity_split=None, min_samples_leaf=1,\n",
       "                       min_samples_split=2, min_weight_fraction_leaf=0.0,\n",
       "                       n_estimators=100, n_jobs=-1, oob_score=False,\n",
       "                       random_state=42, verbose=0, warm_start=False)"
      ]
     },
     "execution_count": 36,
     "metadata": {},
     "output_type": "execute_result"
    }
   ],
   "source": [
    "from sklearn.ensemble import RandomForestClassifier\n",
    "model = RandomForestClassifier(criterion ='entropy', max_depth = 10, max_features ='auto',\n",
    "                            n_estimators = 100, class_weight='balanced', n_jobs=-1, random_state=42 )\n",
    "\n",
    "\n",
    "model.fit(X_train, y_train)"
   ]
  },
  {
   "cell_type": "code",
   "execution_count": 44,
   "metadata": {},
   "outputs": [],
   "source": [
    "y_pred=model.predict(X_test)\n",
    "from sklearn.metrics import accuracy_score \n",
    "from sklearn.metrics import classification_report\n",
    "from sklearn.metrics import confusion_matrix"
   ]
  },
  {
   "cell_type": "code",
   "execution_count": 45,
   "metadata": {},
   "outputs": [
    {
     "name": "stdout",
     "output_type": "stream",
     "text": [
      "Testing Accuarcy:  0.9670888075616756\n",
      "Training Accuracy:  0.9685807816188796\n",
      "              precision    recall  f1-score   support\n",
      "\n",
      "           0       1.00      0.97      0.98     37816\n",
      "           1       0.06      0.46      0.11       165\n",
      "\n",
      "    accuracy                           0.97     37981\n",
      "   macro avg       0.53      0.71      0.55     37981\n",
      "weighted avg       0.99      0.97      0.98     37981\n",
      "\n",
      "[[36655  1161]\n",
      " [   89    76]]\n"
     ]
    }
   ],
   "source": [
    "predictions_clf=model.predict(X_test)\n",
    "print('Testing Accuarcy: ',accuracy_score(y_test, predictions_clf))\n",
    "print(\"Training Accuracy: \", model.score(X_train, y_train))\n",
    "\n",
    "    # making a classification report\n",
    "cr = classification_report(y_test , predictions_clf)\n",
    "print(cr)\n",
    "\n",
    "    # making a confusion matrix\n",
    "cm1 = confusion_matrix(y_test, predictions_clf)\n",
    "print(cm1)"
   ]
  }
 ],
 "metadata": {
  "kernelspec": {
   "display_name": "Python 3",
   "language": "python",
   "name": "python3"
  },
  "language_info": {
   "codemirror_mode": {
    "name": "ipython",
    "version": 3
   },
   "file_extension": ".py",
   "mimetype": "text/x-python",
   "name": "python",
   "nbconvert_exporter": "python",
   "pygments_lexer": "ipython3",
   "version": "3.7.3"
  }
 },
 "nbformat": 4,
 "nbformat_minor": 2
}
